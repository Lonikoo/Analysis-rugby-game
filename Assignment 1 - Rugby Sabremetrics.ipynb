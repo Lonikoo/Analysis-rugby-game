{
 "cells": [
  {
   "cell_type": "markdown",
   "metadata": {},
   "source": [
    "# COMP 10020 Introduction to Programming 2 \n",
    "## Assignment 1 - Rugby Sabremetrics"
   ]
  },
  {
   "cell_type": "markdown",
   "metadata": {},
   "source": [
    "Name:Lang Lin\n",
    "    \n",
    "Student Number:18204365"
   ]
  },
  {
   "cell_type": "markdown",
   "metadata": {},
   "source": [
    "In this lab you will be tasked with exercising your key Python programming skills. The **Pick & Go Test Match Results Database** (http://www.lassen.co.nz/pickandgo.php) contains the results of every international rugby match played since 1875. The following code block reads data from a data file (*'RugbyResultsData.csv'*) scraped from Pick & Go and stores  this in a list of dictionary objects, each of which contains the details of a match. The details stored about each match are stored in a dictionary object with the following keys:\n",
    "\n",
    "* **Date**: The date on which the match was played \n",
    "* **Day**: The day of the week on which the match was played \n",
    "* **Year**: The year in which the match was played\n",
    "* **Team_1**: The home team (three letter country code, e.g. IRL = Ireland, NZL = New Zealand)\n",
    "* **Team_2**: The away team (three letter country code, e.g. IRL = Ireland, NZL = New Zealand)\n",
    "* **Team_1_Score**: The score achieved by the home team.\t\n",
    "* **Team_2_Score**: The score achieved by the away team.\t\n",
    "* **Team_1_Tries**: The number of tries scored by the home team.\n",
    "* **Team_2_Tries**: The number of tries scored by the away team.\n",
    "* **Neutral**: Was the match played at a neutral venue?"
   ]
  },
  {
   "cell_type": "code",
   "execution_count": 15,
   "metadata": {},
   "outputs": [
    {
     "name": "stdout",
     "output_type": "stream",
     "text": [
      "3403 matches loaded\n"
     ]
    }
   ],
   "source": [
    "matches = list()\n",
    "count = 0\n",
    "with open('RugbyResultsData.csv') as f:\n",
    "    for line in f:\n",
    "        words = line.split(',')\n",
    "        match = {\"Date\":words[0],\"Day\":words[1],\"Year\":int(words[2]),\"Team_1\":words[3],\"Team_2\":words[4],\"Team_1_Score\":int(words[5]),\"Team_2_Score\":int(words[6]),\"Team_1_Tries\":int(words[7]),\"Team_2_Tries\":int(words[8]),\"Neutral\":words[9][0]}\n",
    "        matches.append(match)\n",
    "        count = count + 1\n",
    "    \n",
    "print(str(count) + \" matches loaded\")"
   ]
  },
  {
   "cell_type": "markdown",
   "metadata": {},
   "source": [
    "The details of a specific match are accessed by first selecting an element from the **matches** list and then accessing specific pieces of data about that match from the dictionary. For example, the year and teams involved in the third match in the list could be accessed as follows:"
   ]
  },
  {
   "cell_type": "code",
   "execution_count": 16,
   "metadata": {},
   "outputs": [
    {
     "data": {
      "text/plain": [
       "1875"
      ]
     },
     "execution_count": 16,
     "metadata": {},
     "output_type": "execute_result"
    }
   ],
   "source": [
    "matches[2][\"Year\"]"
   ]
  },
  {
   "cell_type": "code",
   "execution_count": 17,
   "metadata": {},
   "outputs": [
    {
     "data": {
      "text/plain": [
       "'IRE'"
      ]
     },
     "execution_count": 17,
     "metadata": {},
     "output_type": "execute_result"
    }
   ],
   "source": [
    "matches[2][\"Team_1\"]"
   ]
  },
  {
   "cell_type": "code",
   "execution_count": 18,
   "metadata": {
    "scrolled": true
   },
   "outputs": [
    {
     "data": {
      "text/plain": [
       "'ENG'"
      ]
     },
     "execution_count": 18,
     "metadata": {},
     "output_type": "execute_result"
    }
   ],
   "source": [
    "matches[2][\"Team_2\"]"
   ]
  },
  {
   "cell_type": "markdown",
   "metadata": {},
   "source": [
    "The task in this lab is to answer the question below using simple Python code. **DO NOT** use advanced packages (e.g. pandas or numpy) for these tasks, write all code yourself."
   ]
  },
  {
   "cell_type": "code",
   "execution_count": 19,
   "metadata": {},
   "outputs": [],
   "source": [
    "# function define\n",
    "def own_max(a):\n",
    "    max_value = 0\n",
    "    for i in a:\n",
    "        if i > max_value:\n",
    "            max_value = i\n",
    "    return max_value\n",
    "\n",
    "def own_min(a):\n",
    "    min_value = 0\n",
    "    for i in a:\n",
    "        if i < min_value:\n",
    "            min_value = i\n",
    "    return min_value"
   ]
  },
  {
   "cell_type": "markdown",
   "metadata": {},
   "source": [
    "### Question 1"
   ]
  },
  {
   "cell_type": "markdown",
   "metadata": {},
   "source": [
    "What is the highest score that any team has achieved in a single match? Who achieved it?"
   ]
  },
  {
   "cell_type": "code",
   "execution_count": 27,
   "metadata": {},
   "outputs": [
    {
     "name": "stdout",
     "output_type": "stream",
     "text": [
      "145\n",
      "NZL\n"
     ]
    }
   ],
   "source": [
    "# Write code to determine and print the answer here.\n",
    "highest_score_1 = [score[\"Team_1_Score\"] for score in matches]\n",
    "highest_score_1_max = own_max(highest_score_1)\n",
    "highest_score_2 = [score[\"Team_2_Score\"] for score in matches]\n",
    "highest_score_2_max = own_max(highest_score_2)\n",
    "\n",
    "if highest_score_1 >= highest_score_2:\n",
    "    print(highest_score_1_max)\n",
    "    print(matches[highest_score_1.index(highest_score_1_max)][\"Team_1\"])\n",
    "else:\n",
    "    print(highest_score_2_max)\n",
    "    print(matches[highest_score_2.index(highest_score_2_max)][\"Team_2\"])"
   ]
  },
  {
   "cell_type": "markdown",
   "metadata": {},
   "source": [
    "### Question 2"
   ]
  },
  {
   "cell_type": "markdown",
   "metadata": {},
   "source": [
    "What is the highest number of tries that have been scored in a single match?"
   ]
  },
  {
   "cell_type": "code",
   "execution_count": 8,
   "metadata": {},
   "outputs": [
    {
     "name": "stdout",
     "output_type": "stream",
     "text": [
      "22\n"
     ]
    }
   ],
   "source": [
    "# Write code to determine and print the answer here.\n",
    "highest_number_of_tries_1 = own_max([tries[\"Team_1_Tries\"] for tries in matches])\n",
    "highest_number_of_tries_2 = own_max([tries[\"Team_2_Tries\"] for tries in matches])\n",
    "if highest_number_of_tries_1 >= highest_number_of_tries_2:\n",
    "    print(highest_number_of_tries_1)\n",
    "else:\n",
    "    print(highest_number_of_tries_2)"
   ]
  },
  {
   "cell_type": "markdown",
   "metadata": {},
   "source": [
    "### Question 3"
   ]
  },
  {
   "cell_type": "markdown",
   "metadata": {},
   "source": [
    "What is the biggest points difference ever seen in a match? Who was playing?"
   ]
  },
  {
   "cell_type": "code",
   "execution_count": 9,
   "metadata": {},
   "outputs": [
    {
     "name": "stdout",
     "output_type": "stream",
     "text": [
      "biggest points difference:  142\n",
      "Team_1:  AUS\n",
      "Team_2:  NAM\n"
     ]
    }
   ],
   "source": [
    "# Write code to determine and print the answer here.\n",
    "Team_1_Score_list = [score[\"Team_1_Score\"] for score in matches]\n",
    "Team_2_Score_list = [score[\"Team_2_Score\"] for score in matches]\n",
    "diff_list = [(Team_1_Score_list[i] - Team_2_Score_list[i]) for i in range(count)]\n",
    "biggest_points_diff = own_max([(abs(Team_1_Score_list[i] - Team_2_Score_list[i])) for i in range(count)])\n",
    "print(\"biggest points difference: \", biggest_points_diff)\n",
    "print(\"Team_1: \", matches[diff_list.index(biggest_points_diff)][\"Team_1\"])\n",
    "print(\"Team_2: \", matches[diff_list.index(biggest_points_diff)][\"Team_2\"])"
   ]
  },
  {
   "cell_type": "markdown",
   "metadata": {},
   "source": [
    "### Question 4"
   ]
  },
  {
   "cell_type": "markdown",
   "metadata": {},
   "source": [
    "How many matches have Argentina played since records began?"
   ]
  },
  {
   "cell_type": "code",
   "execution_count": 10,
   "metadata": {},
   "outputs": [
    {
     "name": "stdout",
     "output_type": "stream",
     "text": [
      "The number of Argentina played is :  296\n"
     ]
    }
   ],
   "source": [
    "# Write code to determine and print the answer here.\n",
    "arg_team_1 = len([c[\"Team_1\"] for c in matches if c[\"Team_1\"] == 'ARG'])\n",
    "arg_team_2 = len([c[\"Team_2\"] for c in matches if c[\"Team_2\"] == 'ARG'])\n",
    "print(\"The number of Argentina played is : \", arg_team_1 + arg_team_2)"
   ]
  },
  {
   "cell_type": "markdown",
   "metadata": {},
   "source": [
    "### Question 5"
   ]
  },
  {
   "cell_type": "markdown",
   "metadata": {},
   "source": [
    "How many times have Scotland played England since records began?"
   ]
  },
  {
   "cell_type": "code",
   "execution_count": 11,
   "metadata": {},
   "outputs": [
    {
     "name": "stdout",
     "output_type": "stream",
     "text": [
      "The number of Scotland played England is :  132\n"
     ]
    }
   ],
   "source": [
    "# Write code to determine and print the answer here.\n",
    "a = len([c for c in matches if c[\"Team_1\"] == \"SCO\" and c[\"Team_2\"] == \"ENG\"])\n",
    "b = len([c for c in matches if c[\"Team_1\"] == \"ENG\" and c[\"Team_2\"] == \"SCO\"])\n",
    "print(\"The number of Scotland played England is : \", a + b)"
   ]
  },
  {
   "cell_type": "markdown",
   "metadata": {},
   "source": [
    "### Question 6"
   ]
  },
  {
   "cell_type": "markdown",
   "metadata": {},
   "source": [
    "Which team have played the least matches since records began?"
   ]
  },
  {
   "cell_type": "code",
   "execution_count": 21,
   "metadata": {},
   "outputs": [
    {
     "name": "stdout",
     "output_type": "stream",
     "text": [
      "PAR 1\n",
      "KOR 1\n"
     ]
    }
   ],
   "source": [
    "# Write code to determine and print the answer here.\n",
    "team_1 = [c[\"Team_1\"] for c in matches]\n",
    "team_2 = [c[\"Team_2\"] for c in matches]\n",
    "team_list = list(set(team_1 + team_2))\n",
    "team = [(team_1.count(i) + team_2.count(i)) for i in team_list]\n",
    "\n",
    "from collections import defaultdict\n",
    "d = defaultdict(list)\n",
    "for k,v in [(i,j) for j,i in enumerate(team)]:\n",
    "    d[k].append(v)\n",
    "index_value = min(team)\n",
    "for i in dict(d)[index_value]:\n",
    "    print(team_list[i],min(team))"
   ]
  },
  {
   "cell_type": "markdown",
   "metadata": {},
   "source": [
    "### Question 7"
   ]
  },
  {
   "cell_type": "markdown",
   "metadata": {},
   "source": [
    "It has been said that *tries win matches*. Is this true? Justify your answer."
   ]
  },
  {
   "cell_type": "code",
   "execution_count": 25,
   "metadata": {
    "scrolled": true
   },
   "outputs": [
    {
     "name": "stdout",
     "output_type": "stream",
     "text": [
      "0.8116947472745293\n",
      "0.9191353082465973\n"
     ]
    }
   ],
   "source": [
    "# Write code to determine and print the answer here.\n",
    "team_1_win = [i for i in matches if i[\"Team_1_Score\"] > i[\"Team_2_Score\"]]\n",
    "team_2_win = [i for i in matches if i[\"Team_1_Score\"] < i[\"Team_2_Score\"]]\n",
    "team_1_win_tries = [i for i in matches if i[\"Team_1_Tries\"] > i[\"Team_2_Tries\"]]\n",
    "team_2_win_tries = [i for i in matches if i[\"Team_1_Tries\"] < i[\"Team_2_Tries\"]]\n",
    "print(len(team_1_win_tries)/len(team_1_win))\n",
    "print(len(team_2_win_tries)/len(team_2_win))"
   ]
  },
  {
   "cell_type": "markdown",
   "metadata": {},
   "source": [
    "We can see that the percentage is greater than 50%, it means that the more tries in a matches, then end up with more win. So we can accept the assumption that *tries win matches* ."
   ]
  },
  {
   "cell_type": "markdown",
   "metadata": {
    "collapsed": true
   },
   "source": [
    "### Question 8"
   ]
  },
  {
   "cell_type": "markdown",
   "metadata": {},
   "source": [
    "In what year were the highest number of games played?"
   ]
  },
  {
   "cell_type": "code",
   "execution_count": 18,
   "metadata": {},
   "outputs": [
    {
     "name": "stdout",
     "output_type": "stream",
     "text": [
      "year: 2007 count: 95\n"
     ]
    }
   ],
   "source": [
    "# Write code to determine and print the answer here.\n",
    "years = [c[\"Year\"] for c in matches]\n",
    "count = [years.count(i) for i in years]\n",
    "print(\"year:\",years[count.index(own_max(count))],\"count:\",own_max(count))"
   ]
  },
  {
   "cell_type": "markdown",
   "metadata": {},
   "source": [
    "### Question 9"
   ]
  },
  {
   "cell_type": "markdown",
   "metadata": {},
   "source": [
    "We can define the **winningest** team in a year as the team with highest overall points difference (difference between points sscored and points conceded). Determine the **winningest** team in the datset in **2018**."
   ]
  },
  {
   "cell_type": "code",
   "execution_count": 19,
   "metadata": {},
   "outputs": [
    {
     "name": "stdout",
     "output_type": "stream",
     "text": [
      "NZL\n"
     ]
    }
   ],
   "source": [
    "# Write code to determine and print the answer here.\n",
    "diff_score_list = [abs(c[\"Team_1_Score\"] - c[\"Team_2_Score\"]) for c in matches if c['Year'] == 2018]\n",
    "matches_2018 = [c for c in matches if c['Year'] == 2018]\n",
    "\n",
    "team_score = matches_2018[diff_score_list.index(own_max(diff_score_list))]\n",
    "if team_score['Team_1_Score'] - team_score['Team_2_Score'] > 0:\n",
    "    print(team_score['Team_1'])\n",
    "else:\n",
    "    print(team_score['Team_2'])"
   ]
  },
  {
   "cell_type": "markdown",
   "metadata": {},
   "source": [
    "### Question 10"
   ]
  },
  {
   "cell_type": "markdown",
   "metadata": {},
   "source": [
    "Determine the **winningest** team for each year in the datset. Which team is the overall **winingest** team (i.e. has been the winningest team in most years."
   ]
  },
  {
   "cell_type": "code",
   "execution_count": 20,
   "metadata": {},
   "outputs": [
    {
     "name": "stdout",
     "output_type": "stream",
     "text": [
      "winingest team:  NZL\n",
      "winingest count:  28\n"
     ]
    }
   ],
   "source": [
    "# Write code to determine and print the answer here.\n",
    "diff_score_list = [abs(c[\"Team_1_Score\"] - c[\"Team_2_Score\"]) for c in matches]\n",
    "match = [c for c in matches]\n",
    "each_math = []\n",
    "each_year_winningest = []\n",
    "for i in match:\n",
    "    each_math.append(i)\n",
    "win_max = 0\n",
    "for i,y in zip(each_math,years):    \n",
    "    if i['Year'] == y:\n",
    "        if i[\"Team_1_Score\"]- i[\"Team_2_Score\"] >0:\n",
    "            win_max = abs(i[\"Team_1_Score\"]- i[\"Team_2_Score\"])\n",
    "            winner = i[\"Team_1\"]\n",
    "        else:\n",
    "            win_max = abs(i[\"Team_1_Score\"]- i[\"Team_2_Score\"])\n",
    "            winner = i[\"Team_2\"]\n",
    "    temp_list = tuple([y,win_max,winner])\n",
    "    each_year_winningest.append(temp_list)\n",
    "#print(each_year_winningest)\n",
    "d = {}\n",
    "for x in each_year_winningest:\n",
    "    #print(x)\n",
    "    a,b,c = x\n",
    "    d.setdefault(a,[]).append((b,c))\n",
    "#print(d)\n",
    "li = []\n",
    "for k,v in d.items():\n",
    "    li.append(str(sorted(v, reverse=True)[0][1]))\n",
    "#print(li)\n",
    "from collections import Counter\n",
    "print(\"winingest team: \",Counter(li).most_common()[0][0])\n",
    "print(\"winingest count: \",Counter(li).most_common()[0][1])"
   ]
  },
  {
   "cell_type": "code",
   "execution_count": null,
   "metadata": {},
   "outputs": [],
   "source": []
  }
 ],
 "metadata": {
  "anaconda-cloud": {},
  "kernelspec": {
   "display_name": "Python 3",
   "language": "python",
   "name": "python3"
  },
  "language_info": {
   "codemirror_mode": {
    "name": "ipython",
    "version": 3
   },
   "file_extension": ".py",
   "mimetype": "text/x-python",
   "name": "python",
   "nbconvert_exporter": "python",
   "pygments_lexer": "ipython3",
   "version": "3.6.5"
  }
 },
 "nbformat": 4,
 "nbformat_minor": 1
}
